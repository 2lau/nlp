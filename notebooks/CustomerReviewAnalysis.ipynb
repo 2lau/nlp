{
  "nbformat": 4,
  "nbformat_minor": 0,
  "metadata": {
    "colab": {
      "name": "CustomerReviewAnalysis.ipynb",
      "provenance": [],
      "collapsed_sections": []
    },
    "kernelspec": {
      "name": "python3",
      "display_name": "Python 3"
    },
    "language_info": {
      "name": "python"
    }
  },
  "cells": [
    {
      "cell_type": "markdown",
      "metadata": {
        "id": "KzQ9KOmmnvKX"
      },
      "source": [
        "Import **Pandas** and **SpaCy** library"
      ]
    },
    {
      "cell_type": "code",
      "metadata": {
        "id": "O4f2HV6ZlTfw"
      },
      "source": [
        "#!pip install pandas\n",
        "#!pip install spacy\n",
        "import pandas as pd\n",
        "import spacy\n",
        "from spacy.matcher import PhraseMatcher\n",
        "from collections import defaultdict"
      ],
      "execution_count": 30,
      "outputs": []
    },
    {
      "cell_type": "markdown",
      "metadata": {
        "id": "iZxrn3VLoIS5"
      },
      "source": [
        "Load **Data**"
      ]
    },
    {
      "cell_type": "code",
      "metadata": {
        "colab": {
          "base_uri": "https://localhost:8080/",
          "height": 204
        },
        "id": "nJ6mcIvhnPER",
        "outputId": "607f6cbe-9983-43bc-c5de-688d654afb4b"
      },
      "source": [
        "data = pd.read_json('data/restaurant.json')\n",
        "data.head()"
      ],
      "execution_count": 31,
      "outputs": [
        {
          "output_type": "execute_result",
          "data": {
            "text/html": [
              "<div>\n",
              "<style scoped>\n",
              "    .dataframe tbody tr th:only-of-type {\n",
              "        vertical-align: middle;\n",
              "    }\n",
              "\n",
              "    .dataframe tbody tr th {\n",
              "        vertical-align: top;\n",
              "    }\n",
              "\n",
              "    .dataframe thead th {\n",
              "        text-align: right;\n",
              "    }\n",
              "</style>\n",
              "<table border=\"1\" class=\"dataframe\">\n",
              "  <thead>\n",
              "    <tr style=\"text-align: right;\">\n",
              "      <th></th>\n",
              "      <th>review_id</th>\n",
              "      <th>user_id</th>\n",
              "      <th>business_id</th>\n",
              "      <th>stars</th>\n",
              "      <th>useful</th>\n",
              "      <th>funny</th>\n",
              "      <th>cool</th>\n",
              "      <th>text</th>\n",
              "      <th>date</th>\n",
              "    </tr>\n",
              "  </thead>\n",
              "  <tbody>\n",
              "    <tr>\n",
              "      <th>109</th>\n",
              "      <td>lDJIaF4eYRF4F7g6Zb9euw</td>\n",
              "      <td>lb0QUR5bc4O-Am4hNq9ZGg</td>\n",
              "      <td>r5PLDU-4mSbde5XekTXSCA</td>\n",
              "      <td>4</td>\n",
              "      <td>2</td>\n",
              "      <td>0</td>\n",
              "      <td>0</td>\n",
              "      <td>I used to work food service and my manager at ...</td>\n",
              "      <td>2013-01-27 17:54:54</td>\n",
              "    </tr>\n",
              "    <tr>\n",
              "      <th>1013</th>\n",
              "      <td>vvIzf3pr8lTqE_AOsxmgaA</td>\n",
              "      <td>MAmijW4ooUzujkufYYLMeQ</td>\n",
              "      <td>r5PLDU-4mSbde5XekTXSCA</td>\n",
              "      <td>4</td>\n",
              "      <td>0</td>\n",
              "      <td>0</td>\n",
              "      <td>0</td>\n",
              "      <td>We have been trying Eggplant sandwiches all ov...</td>\n",
              "      <td>2015-04-15 04:50:56</td>\n",
              "    </tr>\n",
              "    <tr>\n",
              "      <th>1204</th>\n",
              "      <td>UF-JqzMczZ8vvp_4tPK3bQ</td>\n",
              "      <td>slfi6gf_qEYTXy90Sw93sg</td>\n",
              "      <td>r5PLDU-4mSbde5XekTXSCA</td>\n",
              "      <td>5</td>\n",
              "      <td>1</td>\n",
              "      <td>0</td>\n",
              "      <td>0</td>\n",
              "      <td>Amazing Steak and Cheese... Better than any Ph...</td>\n",
              "      <td>2011-03-20 00:57:45</td>\n",
              "    </tr>\n",
              "    <tr>\n",
              "      <th>1251</th>\n",
              "      <td>geUJGrKhXynxDC2uvERsLw</td>\n",
              "      <td>N_-UepOzAsuDQwOUtfRFGw</td>\n",
              "      <td>r5PLDU-4mSbde5XekTXSCA</td>\n",
              "      <td>1</td>\n",
              "      <td>0</td>\n",
              "      <td>0</td>\n",
              "      <td>0</td>\n",
              "      <td>Although I have been going to DeFalco's for ye...</td>\n",
              "      <td>2018-07-17 01:48:23</td>\n",
              "    </tr>\n",
              "    <tr>\n",
              "      <th>1354</th>\n",
              "      <td>aPctXPeZW3kDq36TRm-CqA</td>\n",
              "      <td>139hD7gkZVzSvSzDPwhNNw</td>\n",
              "      <td>r5PLDU-4mSbde5XekTXSCA</td>\n",
              "      <td>2</td>\n",
              "      <td>0</td>\n",
              "      <td>0</td>\n",
              "      <td>0</td>\n",
              "      <td>Highs: Ambience, value, pizza and deserts. Thi...</td>\n",
              "      <td>2018-01-21 10:52:58</td>\n",
              "    </tr>\n",
              "  </tbody>\n",
              "</table>\n",
              "</div>"
            ],
            "text/plain": [
              "                   review_id  ...                date\n",
              "109   lDJIaF4eYRF4F7g6Zb9euw  ... 2013-01-27 17:54:54\n",
              "1013  vvIzf3pr8lTqE_AOsxmgaA  ... 2015-04-15 04:50:56\n",
              "1204  UF-JqzMczZ8vvp_4tPK3bQ  ... 2011-03-20 00:57:45\n",
              "1251  geUJGrKhXynxDC2uvERsLw  ... 2018-07-17 01:48:23\n",
              "1354  aPctXPeZW3kDq36TRm-CqA  ... 2018-01-21 10:52:58\n",
              "\n",
              "[5 rows x 9 columns]"
            ]
          },
          "metadata": {
            "tags": []
          },
          "execution_count": 31
        }
      ]
    },
    {
      "cell_type": "markdown",
      "metadata": {
        "id": "alLuJW5VonC7"
      },
      "source": [
        "Create a **list** that contains all menu items in the restaurant"
      ]
    },
    {
      "cell_type": "code",
      "metadata": {
        "id": "pjwhJR0ro33n"
      },
      "source": [
        "menu = [\"Cheese Steak\", \"Cheesesteak\", \"Steak and Cheese\", \"Italian Combo\", \"Tiramisu\", \"Cannoli\",\n",
        "        \"Chicken Salad\", \"Chicken Spinach Salad\", \"Meatball\", \"Pizza\", \"Pizzas\", \"Spaghetti\",\n",
        "        \"Bruchetta\", \"Eggplant\", \"Italian Beef\", \"Purista\", \"Pasta\", \"Calzones\",  \"Calzone\",\n",
        "        \"Italian Sausage\", \"Chicken Cutlet\", \"Chicken Parm\", \"Chicken Parmesan\", \"Gnocchi\",\n",
        "        \"Chicken Pesto\", \"Turkey Sandwich\", \"Turkey Breast\", \"Ziti\", \"Portobello\", \"Reuben\",\n",
        "        \"Mozzarella Caprese\",  \"Corned Beef\", \"Garlic Bread\", \"Pastrami\", \"Roast Beef\",\n",
        "        \"Tuna Salad\", \"Lasagna\", \"Artichoke Salad\", \"Fettuccini Alfredo\", \"Chicken Parmigiana\",\n",
        "        \"Grilled Veggie\", \"Grilled Veggies\", \"Grilled Vegetable\", \"Mac and Cheese\", \"Macaroni\",  \n",
        "         \"Prosciutto\", \"Salami\"]"
      ],
      "execution_count": 32,
      "outputs": []
    },
    {
      "cell_type": "markdown",
      "metadata": {
        "id": "CMM5fBhvpszh"
      },
      "source": [
        "Load **SpaCy Model**"
      ]
    },
    {
      "cell_type": "code",
      "metadata": {
        "id": "chnr8CT6p1ib"
      },
      "source": [
        "nlp = spacy.blank('en')"
      ],
      "execution_count": 33,
      "outputs": []
    },
    {
      "cell_type": "markdown",
      "metadata": {
        "id": "DFppiDgmqLkY"
      },
      "source": [
        "Create **PhraseMatcher** object"
      ]
    },
    {
      "cell_type": "code",
      "metadata": {
        "id": "HLZ9UMM_qQA0"
      },
      "source": [
        "matcher = PhraseMatcher(nlp.vocab, attr='LOWER')"
      ],
      "execution_count": 34,
      "outputs": []
    },
    {
      "cell_type": "markdown",
      "metadata": {
        "id": "PboxzCdmqTGo"
      },
      "source": [
        "Create **a list of tokens** for each item in the menu"
      ]
    },
    {
      "cell_type": "code",
      "metadata": {
        "id": "NvdPX72GqevB"
      },
      "source": [
        "menu_tokens_list = [nlp(item) for item in menu]"
      ],
      "execution_count": 35,
      "outputs": []
    },
    {
      "cell_type": "markdown",
      "metadata": {
        "id": "a9jN43zXqyce"
      },
      "source": [
        "Add the **item patterns** to the **matcher**"
      ]
    },
    {
      "cell_type": "code",
      "metadata": {
        "id": "liuc-I42q2fU"
      },
      "source": [
        "matcher.add(\"MENU\", menu_tokens_list)"
      ],
      "execution_count": 36,
      "outputs": []
    },
    {
      "cell_type": "markdown",
      "metadata": {
        "id": "jRWEKBnArOex"
      },
      "source": [
        "Matching on the **whole dataset**"
      ]
    },
    {
      "cell_type": "code",
      "metadata": {
        "id": "2LqDxGnIpetK"
      },
      "source": [
        "item_ratings = defaultdict(list)\n",
        "\n",
        "for idx, review in data.iterrows():\n",
        "    doc = nlp(review.text)\n",
        "    matches = matcher(doc)\n",
        "\n",
        "    found_items = set([doc[match[1]:match[2]].text.lower() for match in matches]) \n",
        "\n",
        "    for item in found_items:\n",
        "        item_ratings[item].append(review.stars)"
      ],
      "execution_count": 37,
      "outputs": []
    },
    {
      "cell_type": "markdown",
      "metadata": {
        "id": "j8rNb0qSs2It"
      },
      "source": [
        "Inspecting **item_ratings**<br>\n",
        "\n",
        "\n",
        "*   **item_ratings** is a Python dictionary\n",
        "*   **menu item** as **keys**\n",
        "*   **list of rating (stars)** as **values**\n",
        "\n",
        "\n",
        "\n",
        "\n"
      ]
    },
    {
      "cell_type": "code",
      "metadata": {
        "colab": {
          "base_uri": "https://localhost:8080/"
        },
        "id": "yra7mKyRsIOW",
        "outputId": "47156a8e-3237-466e-8819-225b65e47142"
      },
      "source": [
        "print(item_ratings)"
      ],
      "execution_count": 38,
      "outputs": [
        {
          "output_type": "stream",
          "text": [
            "defaultdict(<class 'list'>, {'chicken parmigiana': [4, 5, 4, 5, 5, 5, 5, 5, 4, 4, 4, 3, 4, 5, 5, 4, 5], 'eggplant': [4, 3, 1, 5, 4, 3, 4, 3, 4, 5, 4, 5, 5, 5, 3, 5, 5, 5, 4, 5, 4, 5, 4, 4, 4, 5, 5, 5, 2, 5, 5, 5, 5, 4, 3, 5, 5, 5, 5, 5, 5, 4, 2, 4, 3, 5, 5, 5, 3, 4, 4, 5, 5, 2, 4, 4, 5, 5, 2, 5, 2, 5, 4, 4, 3, 5, 1, 5, 5], 'pizza': [5, 2, 3, 5, 5, 5, 5, 4, 5, 5, 5, 5, 5, 5, 5, 5, 5, 5, 5, 5, 2, 2, 5, 1, 4, 3, 5, 5, 5, 4, 5, 5, 5, 5, 3, 3, 4, 4, 5, 5, 5, 5, 2, 3, 5, 5, 5, 5, 5, 4, 5, 4, 4, 4, 5, 4, 4, 3, 5, 5, 5, 4, 5, 5, 5, 4, 5, 3, 3, 5, 4, 4, 5, 5, 5, 4, 5, 4, 5, 1, 4, 5, 3, 5, 5, 4, 5, 5, 5, 5, 5, 5, 4, 2, 5, 4, 5, 3, 5, 5, 5, 5, 5, 1, 4, 4, 5, 3, 4, 5, 5, 5, 5, 4, 2, 5, 5, 2, 5, 5, 2, 5, 5, 5, 4, 5, 5, 5, 1, 5, 5, 5, 5, 5, 4, 5, 5, 4, 4, 5, 5, 5, 5, 5, 4, 5, 5, 4, 5, 1, 5, 1, 5, 5, 5, 5, 5, 5, 5, 5, 5, 4, 5, 3, 4, 5, 5, 5, 2, 3, 5, 5, 5, 5, 4, 4, 4, 3, 5, 5, 5, 3, 2, 5, 1, 5, 5, 3, 5, 5, 4, 4, 5, 5, 4, 3, 4, 4, 4, 4, 2, 5, 3, 5, 4, 4, 3, 5, 4, 3, 4, 5, 5, 4, 5, 1, 5, 5, 4, 5, 5, 5, 3, 4, 4, 4, 5, 5, 5, 5, 5, 5, 5, 3, 4, 5, 5, 5, 3, 4, 5, 4, 5, 1, 4, 5, 4, 5, 5, 5, 5, 4, 5, 5, 5, 5, 5, 4, 5, 5, 5, 5, 5, 5, 4], 'steak and cheese': [5, 5, 5, 5, 4, 5, 5, 5, 5], 'meatball': [1, 3, 3, 5, 5, 5, 4, 5, 5, 4, 3, 5, 5, 5, 1, 4, 5, 5, 3, 1, 5, 4, 4, 5, 5, 5, 5, 5, 5, 2, 1, 4, 5, 4, 4, 4, 5, 4, 5, 5, 5, 5, 5, 4, 5, 1, 4, 4, 4, 5, 5, 5, 5, 4, 3, 5, 5, 3, 5, 2, 5, 2, 5, 5, 5, 5, 5, 4, 5, 5, 3, 4, 5, 5, 2, 4, 4, 5, 4, 5, 5, 5, 5, 2, 4, 5, 5, 5, 5, 4, 5, 3, 3, 2, 4, 5, 4, 5, 5, 5, 3, 5, 5, 5, 5, 5, 5, 3, 5, 5, 5, 5, 3, 5, 5, 1, 4, 5, 4, 5, 1, 4, 3, 5, 4, 3, 3, 4], 'pasta': [2, 4, 5, 4, 5, 5, 3, 5, 4, 5, 5, 5, 5, 4, 5, 5, 4, 2, 5, 5, 4, 5, 4, 5, 5, 3, 5, 4, 5, 5, 5, 4, 4, 5, 3, 4, 3, 3, 4, 5, 5, 5, 5, 5, 4, 5, 5, 4, 5, 5, 4, 5, 5, 5, 5, 5, 5, 5, 5, 4, 3, 4, 5, 4, 4, 5, 5, 5, 5, 5, 4, 5, 4, 5, 5, 5, 3, 5, 5, 5, 5, 4, 5, 2, 5, 5, 5, 3, 5, 5, 5, 4, 5, 5, 4, 5, 5, 3, 4, 5, 5, 5, 1, 5, 5, 5, 5, 4, 4, 1, 1, 5, 5, 5, 5, 4, 5, 4, 4, 4, 4, 5, 4, 4, 5, 5, 3, 3, 5, 4, 5, 4, 4, 4, 5, 3, 3, 5, 4, 5, 5, 3, 4, 4, 5, 3, 4, 4, 5, 4, 4, 4, 4, 5, 4, 3, 5, 5, 5, 4, 5, 5, 5, 5, 5, 4, 4, 5, 5, 4, 5, 5, 5, 5, 5, 5, 5, 3, 5, 4, 5, 5, 3, 5, 5, 4, 5, 4, 4, 4, 5, 4, 5, 5, 5, 5, 1, 5, 4, 5, 4, 5, 5, 5, 5, 4], 'cannoli': [2, 5, 5, 5, 5, 1, 3, 5, 4, 5, 4, 5, 5, 5, 2, 4, 4, 4, 4, 4, 5, 5, 5, 5, 5, 5, 4, 3, 4, 5, 5, 5, 5, 5, 5, 3, 4, 3, 5, 5, 5, 5, 3, 5, 5, 5, 4, 4, 5, 5, 4, 5, 5, 5, 5, 5, 1, 5, 4, 5, 5, 5, 2, 5, 5, 5, 4, 4, 5, 4, 5, 5], 'prosciutto': [5, 5, 4, 5, 5, 5, 5, 4, 5, 5, 5, 5, 4, 5, 5, 5, 5, 5, 1, 5, 4, 5, 5, 5, 5, 4, 5, 4, 4, 5, 4, 5, 5, 4, 5, 5, 5, 5, 4, 5, 5, 4, 5, 5, 4, 5, 5, 5, 5, 5], 'purista': [5, 5, 5, 5, 5, 5, 4, 5, 5, 5, 4, 5, 5, 4, 5, 5, 5, 5, 5, 5, 5, 4, 5, 5, 3, 5, 4, 5, 5, 5, 5, 5, 5, 5, 4, 5, 3, 5, 5, 5, 5, 5, 4, 5, 4, 5, 4, 4, 5, 5, 4, 4, 5, 4, 5, 2, 5, 5, 5, 4, 5, 5, 5], 'cheese steak': [4, 5, 5, 5, 4, 4, 5, 2, 5, 2, 5, 5, 4, 5, 4, 5, 4, 4, 5, 5, 4, 5, 4, 3, 5, 2, 4, 5, 4, 4, 4, 4, 5, 5, 5, 2, 3, 5, 5, 5, 2, 5, 5, 5, 4, 4, 5, 5, 5, 5, 5, 5, 4, 5, 5, 5, 4, 5, 5, 5, 5, 5, 5, 4, 4, 5, 4, 5, 5, 5, 5, 5, 5, 5, 4, 4], 'cheesesteak': [3, 3, 5, 5, 4, 5, 5, 4, 5, 3, 3, 5, 4, 5, 4, 5, 4, 3, 4, 5, 5, 5, 5, 5, 5, 5, 5, 5, 5, 4, 4, 3, 5, 4, 5, 5, 5, 4, 3, 5, 2, 5, 5, 5, 5, 5, 4, 5, 1, 3, 5, 5, 5, 5, 5, 5, 5, 5, 5, 4, 5, 5, 5, 4, 3, 5, 4, 5, 5, 4, 5, 5, 5, 5, 5, 5, 5, 5, 4, 5, 5, 5, 4, 3, 5, 5, 5, 5, 5, 1, 4, 5, 5, 5, 4, 5, 5], 'calzone': [3, 5, 5, 4, 5, 5, 3, 5, 5, 4, 5, 4, 5, 5, 3, 5, 5, 5, 4, 5, 4, 5, 5, 5, 5, 5, 1, 4, 3, 4, 5, 5, 2, 4, 5, 5, 5, 5, 5, 4, 4, 5, 4, 5, 5, 5, 5, 5, 5, 5, 5, 5, 4, 4, 5, 3, 2, 5, 4, 2, 5, 4, 5, 5, 5, 5, 5, 4, 5, 5, 4, 5], 'tiramisu': [5, 5, 5, 5, 5, 5, 5, 3, 4, 5, 4, 5, 4, 4, 4, 2, 2, 4, 4, 4, 5], 'italian combo': [5, 1, 4, 5, 4, 5, 5, 3, 4, 5, 5, 5, 3, 1, 4, 1, 5, 5, 5, 5, 5], 'chicken spinach salad': [5, 4], 'italian beef': [3, 5, 3, 5, 4, 4, 4, 2, 4, 5, 5, 4, 5, 5, 5, 3, 2, 4, 5, 3, 5, 4, 1, 3, 5], 'salami': [4, 5, 5, 5, 2, 5, 5, 4, 5, 5, 4, 4, 5, 1, 5, 5, 4, 4, 5, 5, 5, 5, 4, 4, 2, 4, 4, 4], 'chicken parm': [1, 4, 5, 3, 5, 5, 5, 5, 5, 5, 5, 5, 5, 4, 4, 5, 4, 4, 3, 5, 4, 5, 5, 1, 5, 5, 5, 5, 1, 4, 5, 4, 4, 5, 3, 5, 4, 3, 5, 5, 5, 5, 4, 4, 5, 4, 4, 4, 1, 5], 'turkey sandwich': [4, 1, 5, 4, 5], 'ziti': [4, 5, 5, 5, 5, 2, 5, 5, 5, 5, 5, 5, 4, 3, 5, 4, 4, 3, 5, 4, 4], 'tuna salad': [4, 5, 5, 5, 1], 'chicken pesto': [4, 5, 5, 5, 4, 5, 5, 1, 5, 5, 5, 5, 5, 5, 5, 5, 4, 5, 4, 5, 5, 3, 4, 4, 5, 5, 5], 'chicken cutlet': [4, 3, 5, 5, 3, 2, 5, 5, 1, 1], 'artichoke salad': [5, 5, 5, 5, 5], 'lasagna': [5, 5, 5, 5, 4, 5, 3, 5, 4, 5, 5, 5, 5, 5, 5, 5, 5, 5, 5, 5, 2, 5, 4, 3, 5, 5, 5, 5, 4, 4, 4, 5, 5, 4, 5, 5, 2, 4, 5, 5, 5, 5, 5, 5, 5, 1, 2, 5, 5, 5, 5, 3, 4, 5, 5, 5, 5, 1, 5], 'fettuccini alfredo': [5, 5, 5, 5, 5, 5], 'pizzas': [5, 4, 5, 1, 5, 4, 4, 4, 4, 5, 4, 5, 4, 4, 2, 4, 5, 4, 5, 4, 5, 5, 5, 4, 5, 5, 5, 5, 5, 5, 5, 4], 'turkey breast': [5], 'calzones': [4, 5, 3, 5, 5, 4, 5, 5, 5, 5, 4, 5, 4, 4, 5, 5, 5, 5, 4, 4, 5, 5, 5, 5, 4, 4, 5, 5, 3, 4, 5, 5, 4, 5, 4], 'grilled veggie': [5, 5, 4, 5, 5, 3], 'mac and cheese': [5, 5, 5, 5, 4, 5, 5, 5, 5, 4, 1], 'garlic bread': [5, 3, 5, 4, 4, 5, 4, 5, 5, 4, 5, 4, 4, 3, 4, 5, 5, 5, 5, 5, 4, 5, 5, 4, 2, 5, 3, 5, 5, 4, 2, 3, 5, 5, 5, 1, 1, 4, 4], 'spaghetti': [4, 4, 3, 3, 5, 4, 5, 5, 5, 2, 4, 5, 4, 5, 1, 2, 5, 5, 4, 3, 5, 2, 2, 3, 5, 5, 4, 5, 5, 4, 5, 2, 4, 1, 5, 5], 'italian sausage': [4, 1, 4, 5, 4, 4, 5, 5, 5, 4, 5, 5, 5, 5, 4, 5, 3, 5, 5, 1, 5, 3, 5, 5, 4, 5, 4, 5, 1, 5, 3, 5, 5, 5, 5, 4, 5, 4, 4, 4, 5, 4, 4, 4, 5, 1, 5, 5, 5, 5, 5, 5, 5], 'portobello': [5, 5, 5, 5, 5, 5, 1, 5, 5, 4, 4, 5, 5, 4], 'pastrami': [4, 5, 5, 2, 5, 5, 4, 5, 5], 'reuben': [4, 5, 5, 5], 'gnocchi': [4, 4, 5, 5, 5, 5, 5, 4, 5, 3, 5, 2, 5, 1, 5, 5, 5, 5, 5, 5, 4, 4, 5, 5, 4, 5, 5, 3, 5, 5, 5, 5, 5, 4, 5, 4, 5], 'chicken parmesan': [5, 5, 5, 3, 5, 5, 5, 5, 5, 4, 3, 3, 5, 4, 2, 5, 4, 4, 4], 'macaroni': [3, 4, 3, 5, 5], 'chicken salad': [4, 5, 5, 5, 4], 'roast beef': [5, 5, 3, 4, 5, 4, 3], 'corned beef': [5, 5]})\n"
          ],
          "name": "stdout"
        }
      ]
    },
    {
      "cell_type": "markdown",
      "metadata": {
        "id": "kvmwRhu0uJhF"
      },
      "source": [
        "**Question 1: What is the average rating for each menu item?**<br>\n",
        "**Question 2: Which menu item is most popular?**<br>\n",
        "**Question 3: Which menu item is least popular?**"
      ]
    },
    {
      "cell_type": "code",
      "metadata": {
        "colab": {
          "base_uri": "https://localhost:8080/",
          "height": 1000
        },
        "id": "zRdrMEcXuZ1T",
        "outputId": "a25f431b-13d5-4517-850c-b5ae1750e357"
      },
      "source": [
        "mean_ratings = {item: sum(ratings)/len(ratings) for item, ratings in item_ratings.items()}\n",
        "df = pd.DataFrame(list(mean_ratings.items()),columns = ['Menu Item','Average Rating']) \n",
        "df = df.sort_values('Average Rating').reset_index(drop=True)\n",
        "df"
      ],
      "execution_count": 43,
      "outputs": [
        {
          "output_type": "execute_result",
          "data": {
            "text/html": [
              "<div>\n",
              "<style scoped>\n",
              "    .dataframe tbody tr th:only-of-type {\n",
              "        vertical-align: middle;\n",
              "    }\n",
              "\n",
              "    .dataframe tbody tr th {\n",
              "        vertical-align: top;\n",
              "    }\n",
              "\n",
              "    .dataframe thead th {\n",
              "        text-align: right;\n",
              "    }\n",
              "</style>\n",
              "<table border=\"1\" class=\"dataframe\">\n",
              "  <thead>\n",
              "    <tr style=\"text-align: right;\">\n",
              "      <th></th>\n",
              "      <th>Menu Item</th>\n",
              "      <th>Average Rating</th>\n",
              "    </tr>\n",
              "  </thead>\n",
              "  <tbody>\n",
              "    <tr>\n",
              "      <th>0</th>\n",
              "      <td>chicken cutlet</td>\n",
              "      <td>3.400000</td>\n",
              "    </tr>\n",
              "    <tr>\n",
              "      <th>1</th>\n",
              "      <td>turkey sandwich</td>\n",
              "      <td>3.800000</td>\n",
              "    </tr>\n",
              "    <tr>\n",
              "      <th>2</th>\n",
              "      <td>spaghetti</td>\n",
              "      <td>3.888889</td>\n",
              "    </tr>\n",
              "    <tr>\n",
              "      <th>3</th>\n",
              "      <td>italian beef</td>\n",
              "      <td>3.920000</td>\n",
              "    </tr>\n",
              "    <tr>\n",
              "      <th>4</th>\n",
              "      <td>macaroni</td>\n",
              "      <td>4.000000</td>\n",
              "    </tr>\n",
              "    <tr>\n",
              "      <th>5</th>\n",
              "      <td>tuna salad</td>\n",
              "      <td>4.000000</td>\n",
              "    </tr>\n",
              "    <tr>\n",
              "      <th>6</th>\n",
              "      <td>italian combo</td>\n",
              "      <td>4.047619</td>\n",
              "    </tr>\n",
              "    <tr>\n",
              "      <th>7</th>\n",
              "      <td>garlic bread</td>\n",
              "      <td>4.128205</td>\n",
              "    </tr>\n",
              "    <tr>\n",
              "      <th>8</th>\n",
              "      <td>roast beef</td>\n",
              "      <td>4.142857</td>\n",
              "    </tr>\n",
              "    <tr>\n",
              "      <th>9</th>\n",
              "      <td>eggplant</td>\n",
              "      <td>4.159420</td>\n",
              "    </tr>\n",
              "    <tr>\n",
              "      <th>10</th>\n",
              "      <td>meatball</td>\n",
              "      <td>4.179688</td>\n",
              "    </tr>\n",
              "    <tr>\n",
              "      <th>11</th>\n",
              "      <td>chicken parm</td>\n",
              "      <td>4.220000</td>\n",
              "    </tr>\n",
              "    <tr>\n",
              "      <th>12</th>\n",
              "      <td>tiramisu</td>\n",
              "      <td>4.238095</td>\n",
              "    </tr>\n",
              "    <tr>\n",
              "      <th>13</th>\n",
              "      <td>salami</td>\n",
              "      <td>4.250000</td>\n",
              "    </tr>\n",
              "    <tr>\n",
              "      <th>14</th>\n",
              "      <td>chicken parmesan</td>\n",
              "      <td>4.263158</td>\n",
              "    </tr>\n",
              "    <tr>\n",
              "      <th>15</th>\n",
              "      <td>italian sausage</td>\n",
              "      <td>4.301887</td>\n",
              "    </tr>\n",
              "    <tr>\n",
              "      <th>16</th>\n",
              "      <td>pizza</td>\n",
              "      <td>4.339623</td>\n",
              "    </tr>\n",
              "    <tr>\n",
              "      <th>17</th>\n",
              "      <td>pizzas</td>\n",
              "      <td>4.375000</td>\n",
              "    </tr>\n",
              "    <tr>\n",
              "      <th>18</th>\n",
              "      <td>ziti</td>\n",
              "      <td>4.380952</td>\n",
              "    </tr>\n",
              "    <tr>\n",
              "      <th>19</th>\n",
              "      <td>cannoli</td>\n",
              "      <td>4.388889</td>\n",
              "    </tr>\n",
              "    <tr>\n",
              "      <th>20</th>\n",
              "      <td>pasta</td>\n",
              "      <td>4.407767</td>\n",
              "    </tr>\n",
              "    <tr>\n",
              "      <th>21</th>\n",
              "      <td>pastrami</td>\n",
              "      <td>4.444444</td>\n",
              "    </tr>\n",
              "    <tr>\n",
              "      <th>22</th>\n",
              "      <td>calzone</td>\n",
              "      <td>4.444444</td>\n",
              "    </tr>\n",
              "    <tr>\n",
              "      <th>23</th>\n",
              "      <td>cheese steak</td>\n",
              "      <td>4.447368</td>\n",
              "    </tr>\n",
              "    <tr>\n",
              "      <th>24</th>\n",
              "      <td>mac and cheese</td>\n",
              "      <td>4.454545</td>\n",
              "    </tr>\n",
              "    <tr>\n",
              "      <th>25</th>\n",
              "      <td>lasagna</td>\n",
              "      <td>4.457627</td>\n",
              "    </tr>\n",
              "    <tr>\n",
              "      <th>26</th>\n",
              "      <td>chicken parmigiana</td>\n",
              "      <td>4.470588</td>\n",
              "    </tr>\n",
              "    <tr>\n",
              "      <th>27</th>\n",
              "      <td>cheesesteak</td>\n",
              "      <td>4.484536</td>\n",
              "    </tr>\n",
              "    <tr>\n",
              "      <th>28</th>\n",
              "      <td>gnocchi</td>\n",
              "      <td>4.486486</td>\n",
              "    </tr>\n",
              "    <tr>\n",
              "      <th>29</th>\n",
              "      <td>grilled veggie</td>\n",
              "      <td>4.500000</td>\n",
              "    </tr>\n",
              "    <tr>\n",
              "      <th>30</th>\n",
              "      <td>portobello</td>\n",
              "      <td>4.500000</td>\n",
              "    </tr>\n",
              "    <tr>\n",
              "      <th>31</th>\n",
              "      <td>chicken spinach salad</td>\n",
              "      <td>4.500000</td>\n",
              "    </tr>\n",
              "    <tr>\n",
              "      <th>32</th>\n",
              "      <td>calzones</td>\n",
              "      <td>4.542857</td>\n",
              "    </tr>\n",
              "    <tr>\n",
              "      <th>33</th>\n",
              "      <td>chicken pesto</td>\n",
              "      <td>4.555556</td>\n",
              "    </tr>\n",
              "    <tr>\n",
              "      <th>34</th>\n",
              "      <td>chicken salad</td>\n",
              "      <td>4.600000</td>\n",
              "    </tr>\n",
              "    <tr>\n",
              "      <th>35</th>\n",
              "      <td>purista</td>\n",
              "      <td>4.666667</td>\n",
              "    </tr>\n",
              "    <tr>\n",
              "      <th>36</th>\n",
              "      <td>prosciutto</td>\n",
              "      <td>4.680000</td>\n",
              "    </tr>\n",
              "    <tr>\n",
              "      <th>37</th>\n",
              "      <td>reuben</td>\n",
              "      <td>4.750000</td>\n",
              "    </tr>\n",
              "    <tr>\n",
              "      <th>38</th>\n",
              "      <td>steak and cheese</td>\n",
              "      <td>4.888889</td>\n",
              "    </tr>\n",
              "    <tr>\n",
              "      <th>39</th>\n",
              "      <td>fettuccini alfredo</td>\n",
              "      <td>5.000000</td>\n",
              "    </tr>\n",
              "    <tr>\n",
              "      <th>40</th>\n",
              "      <td>artichoke salad</td>\n",
              "      <td>5.000000</td>\n",
              "    </tr>\n",
              "    <tr>\n",
              "      <th>41</th>\n",
              "      <td>turkey breast</td>\n",
              "      <td>5.000000</td>\n",
              "    </tr>\n",
              "    <tr>\n",
              "      <th>42</th>\n",
              "      <td>corned beef</td>\n",
              "      <td>5.000000</td>\n",
              "    </tr>\n",
              "  </tbody>\n",
              "</table>\n",
              "</div>"
            ],
            "text/plain": [
              "                Menu Item  Average Rating\n",
              "0          chicken cutlet        3.400000\n",
              "1         turkey sandwich        3.800000\n",
              "2               spaghetti        3.888889\n",
              "3            italian beef        3.920000\n",
              "4                macaroni        4.000000\n",
              "5              tuna salad        4.000000\n",
              "6           italian combo        4.047619\n",
              "7            garlic bread        4.128205\n",
              "8              roast beef        4.142857\n",
              "9                eggplant        4.159420\n",
              "10               meatball        4.179688\n",
              "11           chicken parm        4.220000\n",
              "12               tiramisu        4.238095\n",
              "13                 salami        4.250000\n",
              "14       chicken parmesan        4.263158\n",
              "15        italian sausage        4.301887\n",
              "16                  pizza        4.339623\n",
              "17                 pizzas        4.375000\n",
              "18                   ziti        4.380952\n",
              "19                cannoli        4.388889\n",
              "20                  pasta        4.407767\n",
              "21               pastrami        4.444444\n",
              "22                calzone        4.444444\n",
              "23           cheese steak        4.447368\n",
              "24         mac and cheese        4.454545\n",
              "25                lasagna        4.457627\n",
              "26     chicken parmigiana        4.470588\n",
              "27            cheesesteak        4.484536\n",
              "28                gnocchi        4.486486\n",
              "29         grilled veggie        4.500000\n",
              "30             portobello        4.500000\n",
              "31  chicken spinach salad        4.500000\n",
              "32               calzones        4.542857\n",
              "33          chicken pesto        4.555556\n",
              "34          chicken salad        4.600000\n",
              "35                purista        4.666667\n",
              "36             prosciutto        4.680000\n",
              "37                 reuben        4.750000\n",
              "38       steak and cheese        4.888889\n",
              "39     fettuccini alfredo        5.000000\n",
              "40        artichoke salad        5.000000\n",
              "41          turkey breast        5.000000\n",
              "42            corned beef        5.000000"
            ]
          },
          "metadata": {
            "tags": []
          },
          "execution_count": 43
        }
      ]
    },
    {
      "cell_type": "markdown",
      "metadata": {
        "id": "pHkH6KZWwdBx"
      },
      "source": [
        "**df** contains the average rating for each menu item.<br>\n",
        "By inspecting **df**, it is clear that **fettuccini alfredo**, **artichoke salad**,**turkey breast** & **corned beef**\tare the most poular menu items.<br>\n",
        "And, **chicken cutlet** is the least popular menu items."
      ]
    }
  ]
}
